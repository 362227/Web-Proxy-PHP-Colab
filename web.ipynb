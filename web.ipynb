{
  "nbformat": 4,
  "nbformat_minor": 0,
  "metadata": {
    "colab": {
      "name": "proxy2.ipynb",
      "provenance": [],
      "collapsed_sections": [],
      "authorship_tag": "ABX9TyOS2C9nQI/P1JFQmWxabCXD"
    },
    "kernelspec": {
      "name": "python3",
      "display_name": "Python 3"
    },
    "language_info": {
      "name": "python"
    }
  },
  "cells": [
    {
      "cell_type": "code",
      "execution_count": null,
      "metadata": {
        "id": "CvTLy9RXlLIM"
      },
      "outputs": [],
      "source": [
        "!bash <(wget -O - https://raw.githubusercontent.com/Athlon1600/php-proxy-installer/master/install.sh)"
      ]
    },
    {
      "cell_type": "code",
      "source": [
        "!wget -q \"https://bin.equinox.io/c/4VmDzA7iaHb/ngrok-stable-linux-amd64.tgz\" -O ngrok.gz\n",
        "!gunzip \"ngrok.gz\"\n",
        "!tar -xf ngrok\n",
        "!mv ngrok /bin/ngrok\n",
        "!ngrok authtoken [enter-authtoken] 2>&1 # Enter your auth token here first"
      ],
      "metadata": {
        "id": "zAI9rsXs4dGK"
      },
      "execution_count": null,
      "outputs": []
    },
    {
      "cell_type": "code",
      "source": [
        "!php -r \"copy('https://getcomposer.org/installer', 'composer-setup.php');\" 2>&1\n",
        "!php -r \"if (hash_file('sha384', 'composer-setup.php') === '906a84df04cea2aa72f40b5f787e49f22d4c2f19492ac310e8cba5b96ac8b64115ac402c8cd292b8a03482574915d1a8') { echo 'Installer verified'; } else { echo 'Installer corrupt'; unlink('composer-setup.php'); } echo PHP_EOL;\" 2>&1\n",
        "!php composer-setup.php 2>&1\n",
        "!php -r \"unlink('composer-setup.php');\" 2>&1\n",
        "!mv composer.phar /bin/composer 2>&1"
      ],
      "metadata": {
        "id": "Lk84_ZeZP21y"
      },
      "execution_count": null,
      "outputs": []
    },
    {
      "cell_type": "code",
      "source": [
        "!composer create-project athlon1600/php-proxy-app:dev-master 2>&1"
      ],
      "metadata": {
        "id": "3UHE52KYQCy3"
      },
      "execution_count": null,
      "outputs": []
    },
    {
      "cell_type": "code",
      "source": [
        "with open('php-proxy-app/config.php', 'r') as f:\n",
        "    data = f.read().split('\\n')\n",
        "\n",
        "newdat = ''\n",
        "\n",
        "for line in data:\n",
        "    if line.startswith(\"$config['app_key'] = '';\"):\n",
        "        newdat += \"$config['app_key'] = 'key28490';\\n\"\n",
        "    else:\n",
        "        newdat += line+'\\n'\n",
        "\n",
        "with open('php-proxy-app/config.php', 'w') as f:\n",
        "    f.write(newdat)"
      ],
      "metadata": {
        "id": "3cLuk18lNlZe"
      },
      "execution_count": null,
      "outputs": []
    },
    {
      "cell_type": "code",
      "source": [
        "!cd php-proxy-app ; wget -q \"https://findicons.com/icon/download/direct/169016/php/128/ico\" -O favicon.ico\n",
        "!cd php-proxy-app ; chmod +rwx -R .\n",
        "!mv php-proxy-app/* ."
      ],
      "metadata": {
        "id": "Xv8Gdyk9ksNG"
      },
      "execution_count": null,
      "outputs": []
    },
    {
      "cell_type": "code",
      "source": [
        "!rm -rf ngrok.log\n",
        "!ngrok tcp 8001 -log=stdout > ngrok.log & php -S localhost:8001"
      ],
      "metadata": {
        "id": "-x5hcJ5x8SJw"
      },
      "execution_count": null,
      "outputs": []
    }
  ]
}